{
 "cells": [
  {
   "cell_type": "code",
   "execution_count": 11,
   "metadata": {},
   "outputs": [],
   "source": [
    "import gymnasium as gym\n",
    "from gymnasium.envs.mujoco.half_cheetah_v4 import HalfCheetahEnv\n",
    "from stable_baselines3 import PPO\n",
    "from stable_baselines3.common.env_util import make_vec_env\n",
    "\n",
    "PARAM_DIR = 'params'\n",
    "\n",
    "def create_custom_env(render_mode=None):\n",
    "    \"\"\"\n",
    "    Creates a custom Frozen Lake environment.\n",
    "    \n",
    "    :param custom_map: List of strings representing the map.\n",
    "    :param is_slippery: Boolean indicating whether the surface is slippery.\n",
    "    :return: Custom Frozen Lake environment.\n",
    "    \"\"\"\n",
    "    env = HalfCheetahEnv(render_mode=render_mode)\n",
    "    return env\n",
    "\n",
    "def train_ppo_on_map(total_timesteps=10000, pretrained_model_path=None, render_mode=None, **kwargs):\n",
    "    \"\"\"\n",
    "    Trains a PPO agent on a custom Frozen Lake map.\n",
    "    \n",
    "    :param custom_map: List of strings representing the map.\n",
    "    :param total_timesteps: Total timesteps for training.\n",
    "    :param is_slippery: Boolean indicating whether the surface is slippery.\n",
    "    :return: Trained PPO model.\n",
    "    \"\"\"\n",
    "    # Create the environment\n",
    "    env = create_custom_env(render_mode=render_mode, **kwargs)\n",
    "    env = make_vec_env(lambda: env, n_envs=1)  # Vectorize the environment\n",
    "\n",
    "    # Initialize the PPO model\n",
    "    if pretrained_model_path is not None:\n",
    "        model = PPO.load(pretrained_model_path, env)\n",
    "    else:\n",
    "        model = PPO(\"MlpPolicy\", env, verbose=1)\n",
    "\n",
    "    # Train the model\n",
    "    model.learn(total_timesteps=total_timesteps)\n",
    "\n",
    "    return model\n",
    "\n",
    "\n",
    "\n",
    "# Train the PPO agent on the baseline map\n",
    "# trained_model = train_ppo_on_map(total_timesteps=50000)\n",
    "\n",
    "# Save the model\n",
    "# trained_model.save(f\"{PARAM_DIR}/ppo_frozenlake_baseline\")\n"
   ]
  },
  {
   "cell_type": "markdown",
   "metadata": {},
   "source": [
    "## Using Modified Gym Environments"
   ]
  },
  {
   "cell_type": "code",
   "execution_count": 21,
   "metadata": {},
   "outputs": [
    {
     "ename": "MujocoDependencyError",
     "evalue": "To use MuJoCo, you need to either populate ~/.mujoco/mjkey.txt and ~/.mujoco/mjpro131, or set the MUJOCO_PY_MJKEY_PATH and MUJOCO_PY_MJPRO_PATH environment variables appropriately. Follow the instructions on https://github.com/openai/mujoco-py for where to obtain these.",
     "output_type": "error",
     "traceback": [
      "\u001b[1;31m---------------------------------------------------------------------------\u001b[0m",
      "\u001b[1;31mMujocoDependencyError\u001b[0m                     Traceback (most recent call last)",
      "Cell \u001b[1;32mIn[21], line 1\u001b[0m\n\u001b[1;32m----> 1\u001b[0m \u001b[38;5;28;01mfrom\u001b[39;00m \u001b[38;5;21;01mgym_extensions\u001b[39;00m\u001b[38;5;21;01m.\u001b[39;00m\u001b[38;5;21;01mcontinuous\u001b[39;00m\u001b[38;5;21;01m.\u001b[39;00m\u001b[38;5;21;01mmujoco\u001b[39;00m\u001b[38;5;21;01m.\u001b[39;00m\u001b[38;5;21;01mmodified_half_cheetah\u001b[39;00m \u001b[38;5;28;01mimport\u001b[39;00m ModifiedHalfCheetahEnv\n\u001b[0;32m      3\u001b[0m \u001b[38;5;28;01mdef\u001b[39;00m \u001b[38;5;21mcreate_custom_env\u001b[39m(render_mode\u001b[38;5;241m=\u001b[39m\u001b[38;5;28;01mNone\u001b[39;00m, modified_env\u001b[38;5;241m=\u001b[39m\u001b[38;5;28;01mTrue\u001b[39;00m):\n\u001b[0;32m      4\u001b[0m \u001b[38;5;250m    \u001b[39m\u001b[38;5;124;03m\"\"\"\u001b[39;00m\n\u001b[0;32m      5\u001b[0m \u001b[38;5;124;03m    Creates a custom Frozen Lake environment.\u001b[39;00m\n\u001b[0;32m      6\u001b[0m \u001b[38;5;124;03m    \u001b[39;00m\n\u001b[1;32m   (...)\u001b[0m\n\u001b[0;32m      9\u001b[0m \u001b[38;5;124;03m    :return: Custom Frozen Lake environment.\u001b[39;00m\n\u001b[0;32m     10\u001b[0m \u001b[38;5;124;03m    \"\"\"\u001b[39;00m\n",
      "File \u001b[1;32mc:\\Users\\patel\\OneDrive - iiit-b\\Desktop\\coursework\\sem 7\\Topics in AI\\code\\gym_extensions\\continuous\\mujoco\\modified_half_cheetah.py:6\u001b[0m\n\u001b[0;32m      4\u001b[0m \u001b[38;5;28;01mimport\u001b[39;00m \u001b[38;5;21;01mos\u001b[39;00m\u001b[38;5;21;01m.\u001b[39;00m\u001b[38;5;21;01mpath\u001b[39;00m \u001b[38;5;28;01mas\u001b[39;00m \u001b[38;5;21;01mosp\u001b[39;00m\n\u001b[0;32m      5\u001b[0m \u001b[38;5;28;01mfrom\u001b[39;00m \u001b[38;5;21;01mgym_extensions\u001b[39;00m\u001b[38;5;21;01m.\u001b[39;00m\u001b[38;5;21;01mcontinuous\u001b[39;00m\u001b[38;5;21;01m.\u001b[39;00m\u001b[38;5;21;01mmujoco\u001b[39;00m\u001b[38;5;21;01m.\u001b[39;00m\u001b[38;5;21;01mwall_envs\u001b[39;00m \u001b[38;5;28;01mimport\u001b[39;00m WallEnvFactory\n\u001b[1;32m----> 6\u001b[0m \u001b[38;5;28;01mfrom\u001b[39;00m \u001b[38;5;21;01mgym_extensions\u001b[39;00m\u001b[38;5;21;01m.\u001b[39;00m\u001b[38;5;21;01mcontinuous\u001b[39;00m\u001b[38;5;21;01m.\u001b[39;00m\u001b[38;5;21;01mmujoco\u001b[39;00m\u001b[38;5;21;01m.\u001b[39;00m\u001b[38;5;21;01mgravity_envs\u001b[39;00m \u001b[38;5;28;01mimport\u001b[39;00m GravityEnvFactory\n\u001b[0;32m      7\u001b[0m \u001b[38;5;28;01mfrom\u001b[39;00m \u001b[38;5;21;01mgym\u001b[39;00m\u001b[38;5;21;01m.\u001b[39;00m\u001b[38;5;21;01menvs\u001b[39;00m\u001b[38;5;21;01m.\u001b[39;00m\u001b[38;5;21;01mmujoco\u001b[39;00m\u001b[38;5;21;01m.\u001b[39;00m\u001b[38;5;21;01mhalf_cheetah\u001b[39;00m \u001b[38;5;28;01mimport\u001b[39;00m HalfCheetahEnv\n\u001b[0;32m      8\u001b[0m \u001b[38;5;28;01mfrom\u001b[39;00m \u001b[38;5;21;01mgym_extensions\u001b[39;00m\u001b[38;5;21;01m.\u001b[39;00m\u001b[38;5;21;01mcontinuous\u001b[39;00m\u001b[38;5;21;01m.\u001b[39;00m\u001b[38;5;21;01mmujoco\u001b[39;00m\u001b[38;5;21;01m.\u001b[39;00m\u001b[38;5;21;01mperturbed_bodypart_env\u001b[39;00m \u001b[38;5;28;01mimport\u001b[39;00m ModifiedSizeEnvFactory\n",
      "File \u001b[1;32mc:\\Users\\patel\\OneDrive - iiit-b\\Desktop\\coursework\\sem 7\\Topics in AI\\code\\gym_extensions\\continuous\\mujoco\\gravity_envs.py:12\u001b[0m\n\u001b[0;32m     10\u001b[0m \u001b[38;5;28;01mfrom\u001b[39;00m \u001b[38;5;21;01mgym\u001b[39;00m \u001b[38;5;28;01mimport\u001b[39;00m utils\n\u001b[0;32m     11\u001b[0m \u001b[38;5;28;01mfrom\u001b[39;00m \u001b[38;5;21;01mgym\u001b[39;00m\u001b[38;5;21;01m.\u001b[39;00m\u001b[38;5;21;01menvs\u001b[39;00m\u001b[38;5;21;01m.\u001b[39;00m\u001b[38;5;21;01mmujoco\u001b[39;00m \u001b[38;5;28;01mimport\u001b[39;00m mujoco_env\n\u001b[1;32m---> 12\u001b[0m \u001b[38;5;28;01mimport\u001b[39;00m \u001b[38;5;21;01mmujoco_py\u001b[39;00m\n\u001b[0;32m     14\u001b[0m \u001b[38;5;28;01mdef\u001b[39;00m \u001b[38;5;21mGravityEnvFactory\u001b[39m(class_type):\n\u001b[0;32m     15\u001b[0m \u001b[38;5;250m    \u001b[39m\u001b[38;5;124;03m\"\"\"class_type should be an OpenAI gym type\"\"\"\u001b[39;00m\n",
      "File \u001b[1;32mc:\\Users\\patel\\anaconda3\\envs\\llama\\Lib\\site-packages\\mujoco_py\\__init__.py:2\u001b[0m\n\u001b[0;32m      1\u001b[0m \u001b[38;5;28;01mfrom\u001b[39;00m \u001b[38;5;21;01m.\u001b[39;00m\u001b[38;5;21;01mconfig\u001b[39;00m \u001b[38;5;28;01mimport\u001b[39;00m init_config, get_key_path\n\u001b[1;32m----> 2\u001b[0m \u001b[43minit_config\u001b[49m\u001b[43m(\u001b[49m\u001b[43m)\u001b[49m\n\u001b[0;32m      4\u001b[0m \u001b[38;5;28;01mfrom\u001b[39;00m \u001b[38;5;21;01m.\u001b[39;00m\u001b[38;5;21;01mmjviewer\u001b[39;00m \u001b[38;5;28;01mimport\u001b[39;00m MjViewer\n\u001b[0;32m      5\u001b[0m \u001b[38;5;28;01mfrom\u001b[39;00m \u001b[38;5;21;01m.\u001b[39;00m\u001b[38;5;21;01mmjcore\u001b[39;00m \u001b[38;5;28;01mimport\u001b[39;00m MjModel\n",
      "File \u001b[1;32mc:\\Users\\patel\\anaconda3\\envs\\llama\\Lib\\site-packages\\mujoco_py\\config.py:33\u001b[0m, in \u001b[0;36minit_config\u001b[1;34m()\u001b[0m\n\u001b[0;32m     30\u001b[0m     mjpro_path \u001b[38;5;241m=\u001b[39m default_mjpro_path\n\u001b[0;32m     32\u001b[0m \u001b[38;5;28;01mif\u001b[39;00m \u001b[38;5;129;01mnot\u001b[39;00m _key_path \u001b[38;5;129;01mand\u001b[39;00m \u001b[38;5;129;01mnot\u001b[39;00m mjpro_path:\n\u001b[1;32m---> 33\u001b[0m     \u001b[38;5;28;01mraise\u001b[39;00m error\u001b[38;5;241m.\u001b[39mMujocoDependencyError(\u001b[38;5;124m'\u001b[39m\u001b[38;5;124mTo use MuJoCo, you need to either populate ~/.mujoco/mjkey.txt and ~/.mujoco/mjpro131, or set the MUJOCO_PY_MJKEY_PATH and MUJOCO_PY_MJPRO_PATH environment variables appropriately. Follow the instructions on https://github.com/openai/mujoco-py for where to obtain these.\u001b[39m\u001b[38;5;124m'\u001b[39m)\n\u001b[0;32m     34\u001b[0m \u001b[38;5;28;01melif\u001b[39;00m \u001b[38;5;129;01mnot\u001b[39;00m _key_path:\n\u001b[0;32m     35\u001b[0m     \u001b[38;5;28;01mraise\u001b[39;00m error\u001b[38;5;241m.\u001b[39mMujocoDependencyError(\u001b[38;5;124m'\u001b[39m\u001b[38;5;124mFound your MuJoCo binaries but not license key. Please put your key into ~/.mujoco/mjkey.txt or set MUJOCO_PY_MJKEY_PATH. Follow the instructions on https://github.com/openai/mujoco-py for setup.\u001b[39m\u001b[38;5;124m'\u001b[39m)\n",
      "\u001b[1;31mMujocoDependencyError\u001b[0m: To use MuJoCo, you need to either populate ~/.mujoco/mjkey.txt and ~/.mujoco/mjpro131, or set the MUJOCO_PY_MJKEY_PATH and MUJOCO_PY_MJPRO_PATH environment variables appropriately. Follow the instructions on https://github.com/openai/mujoco-py for where to obtain these."
     ]
    }
   ],
   "source": [
    "from gym_extensions.continuous.mujoco.modified_half_cheetah import ModifiedHalfCheetahEnv\n",
    "\n",
    "def create_custom_env(render_mode=None, modified_env=True):\n",
    "    \"\"\"\n",
    "    Creates a custom Frozen Lake environment.\n",
    "    \n",
    "    :param custom_map: List of strings representing the map.\n",
    "    :param is_slippery: Boolean indicating whether the surface is slippery.\n",
    "    :return: Custom Frozen Lake environment.\n",
    "    \"\"\"\n",
    "    print(\"Creating Modified environment\")\n",
    "    env = ModifiedHalfCheetahEnv()\n",
    "    return env\n",
    "\n",
    "train_ppo_on_map(total_timesteps=50000, pretrained_model_path=None, render_mode=None)"
   ]
  }
 ],
 "metadata": {
  "kernelspec": {
   "display_name": "llama",
   "language": "python",
   "name": "python3"
  },
  "language_info": {
   "codemirror_mode": {
    "name": "ipython",
    "version": 3
   },
   "file_extension": ".py",
   "mimetype": "text/x-python",
   "name": "python",
   "nbconvert_exporter": "python",
   "pygments_lexer": "ipython3",
   "version": "3.11.9"
  }
 },
 "nbformat": 4,
 "nbformat_minor": 2
}
