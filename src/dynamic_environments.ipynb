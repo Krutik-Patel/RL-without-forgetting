{
 "cells": [
  {
   "cell_type": "markdown",
   "metadata": {},
   "source": [
    "# Frozen Lake\n",
    "\n",
    "Creating a frozen lake based multiphase environment as a test\n"
   ]
  },
  {
   "cell_type": "code",
   "execution_count": 2,
   "metadata": {},
   "outputs": [],
   "source": [
    "import gymnasium as gym\n",
    "from gymnasium.envs.toy_text.frozen_lake import FrozenLakeEnv\n",
    "import numpy as np"
   ]
  },
  {
   "cell_type": "code",
   "execution_count": 17,
   "metadata": {},
   "outputs": [],
   "source": [
    "class DynamicFrozenLakeEnv(FrozenLakeEnv):\n",
    "    def __init__(self, initial_map=\"4x4\", dynamic_map=\"8x8\", switch_after=1000, **kwargs):\n",
    "        \"\"\"\n",
    "        Custom FrozenLake environment that changes its map layout after being called a fixed number of times.\n",
    "        :param initial_map: The initial map layout (can be a gym map name like '4x4' or '8x8').\n",
    "        :param dynamic_map: The map layout to switch to after `switch_after` steps.\n",
    "        :param switch_after: Number of steps/episodes after which the map changes.\n",
    "        \"\"\"\n",
    "        # Load the initial map\n",
    "        super().__init__(map_name=initial_map, **kwargs)\n",
    "        self.initial_map = initial_map\n",
    "        self.dynamic_map = dynamic_map\n",
    "        self.switch_after = switch_after\n",
    "        self.steps_taken = 0\n",
    "        self.current_map = initial_map\n",
    "        self.init_kwargs = kwargs\n",
    "    \n",
    "    def step(self, action):\n",
    "        # Call the step function of the parent class\n",
    "        obs, reward, done, truncated, info = super().step(action)\n",
    "        \n",
    "\n",
    "        # Increment the steps counter\n",
    "        self.steps_taken += 1\n",
    "\n",
    "        # Check if we should switch the map layout\n",
    "        if self.steps_taken >= self.switch_after and self.current_map != self.dynamic_map:\n",
    "            print(f\"Switching environment map after {self.steps_taken} steps.\")\n",
    "            self.switch_map_layout(self.dynamic_map)\n",
    "            self.reset()\n",
    "            return obs, reward, done, True, info\n",
    "\n",
    "        return obs, reward, done, truncated, info\n",
    "\n",
    "    def reset(self,\n",
    "        *,\n",
    "        seed= None,\n",
    "        options = None,):\n",
    "        # Reset the environment as usual, increment episode count if needed\n",
    "        if self.steps_taken >= self.switch_after and self.current_map != self.dynamic_map:\n",
    "            print(f\"Switching environment map after {self.steps_taken} steps.\")\n",
    "            self.switch_map_layout(self.dynamic_map)\n",
    "\n",
    "        return super().reset(seed=seed, options=options)\n",
    "\n",
    "    def switch_map_layout(self, new_map):\n",
    "        \"\"\"\n",
    "        Switch the map layout to a new one.\n",
    "        :param new_map: The map to switch to (e.g., '8x8').\n",
    "        \"\"\"\n",
    "        if new_map == \"4x4\":\n",
    "            new_desc = [\n",
    "                \"SFFF\",\n",
    "                \"FHFH\",\n",
    "                \"FFFH\",\n",
    "                \"HFFG\"\n",
    "            ]\n",
    "        elif new_map == \"8x8\":\n",
    "            new_desc = [\n",
    "                \"SFFFFFFF\",\n",
    "                \"FFFFFFFF\",\n",
    "                \"FFFHFFFF\",\n",
    "                \"FFFFHFFF\",\n",
    "                \"FFFHFFFF\",\n",
    "                \"FHHFFFHF\",\n",
    "                \"FHFFHFHF\",\n",
    "                \"FFFHFFFG\"\n",
    "            ]\n",
    "        else:\n",
    "            raise ValueError(\"Unsupported map layout\")\n",
    "        \n",
    "        # Switch the map layout and reset environment state\n",
    "        super().__init__(desc=new_desc, map_name=new_map, **self.init_kwargs)\n",
    "        # self.desc = new_desc\n",
    "        # self.desc = np.asarray(self.desc, dtype='c')\n",
    "        # self.nrow, self.ncol = self.desc.shape\n",
    "        self.current_map = new_map\n",
    "        # self.initial_state_distrib = np.array(self.desc == b\"S\").astype(\"float64\").ravel()\n",
    "        # self.initial_state_distrib /= self.initial_state_distrib.sum()"
   ]
  },
  {
   "cell_type": "code",
   "execution_count": 18,
   "metadata": {},
   "outputs": [],
   "source": [
    "# Create the dynamic FrozenLake environment\n",
    "env = DynamicFrozenLakeEnv(initial_map=\"4x4\", dynamic_map=\"8x8\", switch_after=1000)"
   ]
  },
  {
   "cell_type": "code",
   "execution_count": 19,
   "metadata": {},
   "outputs": [
    {
     "name": "stdout",
     "output_type": "stream",
     "text": [
      "Switching environment map after 1000 steps.\n"
     ]
    }
   ],
   "source": [
    "obs = env.reset()\n",
    "for _ in range(2000):  # Run for more than the switch_after threshold to see the map change\n",
    "    action = env.action_space.sample()  # Take a random action\n",
    "    obs, reward, done, truncated, info = env.step(action)\n",
    "    if done:\n",
    "        obs = env.reset()"
   ]
  },
  {
   "cell_type": "code",
   "execution_count": 20,
   "metadata": {},
   "outputs": [
    {
     "data": {
      "text/plain": [
       "(8, 8)"
      ]
     },
     "execution_count": 20,
     "metadata": {},
     "output_type": "execute_result"
    }
   ],
   "source": [
    "env.desc.shape"
   ]
  },
  {
   "cell_type": "code",
   "execution_count": null,
   "metadata": {},
   "outputs": [],
   "source": []
  }
 ],
 "metadata": {
  "kernelspec": {
   "display_name": "torchwala",
   "language": "python",
   "name": "python3"
  },
  "language_info": {
   "codemirror_mode": {
    "name": "ipython",
    "version": 3
   },
   "file_extension": ".py",
   "mimetype": "text/x-python",
   "name": "python",
   "nbconvert_exporter": "python",
   "pygments_lexer": "ipython3",
   "version": "3.12.2"
  }
 },
 "nbformat": 4,
 "nbformat_minor": 2
}
